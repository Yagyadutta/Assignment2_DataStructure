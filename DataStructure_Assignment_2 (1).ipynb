{
  "nbformat": 4,
  "nbformat_minor": 0,
  "metadata": {
    "colab": {
      "provenance": []
    },
    "kernelspec": {
      "name": "python3",
      "display_name": "Python 3"
    },
    "language_info": {
      "name": "python"
    }
  },
  "cells": [
    {
      "cell_type": "markdown",
      "source": [
        "1. Discuss string slicing and provide examples\n",
        "\n",
        "Solution: String slicing in Python is a technique used to extract a portion of a string based on specified start, stop, and step indices.\n",
        "\n",
        "Syntax:\n",
        "       \n",
        "       string[start:stop:step]\n",
        "\n",
        "Parameters:\n",
        "\n",
        "start: The starting index of the slice (inclusive). Defaults to 0 if omitted.\\\n",
        "stop: The ending index of the slice (exclusive). Required.\\\n",
        "step: The step size for slicing (optional). Defaults to 1.\n",
        "\n"
      ],
      "metadata": {
        "id": "dSKKzJwFkuDM"
      }
    },
    {
      "cell_type": "code",
      "source": [
        "#Examples Basic Slicing\n",
        "\n",
        "text = \"Hello, World!\"\n",
        "print(text[0:5])\n",
        "\n"
      ],
      "metadata": {
        "colab": {
          "base_uri": "https://localhost:8080/"
        },
        "id": "JlGpmVEJl2TB",
        "outputId": "4b384128-aa8c-43ae-b6db-c317cea5e19a"
      },
      "execution_count": 3,
      "outputs": [
        {
          "output_type": "stream",
          "name": "stdout",
          "text": [
            "Hello\n"
          ]
        }
      ]
    },
    {
      "cell_type": "code",
      "source": [
        "# Omitting Start or Stop\n",
        "print(text[:5])\n",
        "print(text[7:])\n"
      ],
      "metadata": {
        "colab": {
          "base_uri": "https://localhost:8080/"
        },
        "id": "QS9_p2DrmFm2",
        "outputId": "cce179e2-f9ae-4111-a354-38de9d16f91a"
      },
      "execution_count": 4,
      "outputs": [
        {
          "output_type": "stream",
          "name": "stdout",
          "text": [
            "Hello\n",
            "World!\n"
          ]
        }
      ]
    },
    {
      "cell_type": "code",
      "source": [
        "#Using Step\n",
        "print(text[::2])\n",
        "print(text[1::2])"
      ],
      "metadata": {
        "colab": {
          "base_uri": "https://localhost:8080/"
        },
        "id": "XTnytgAWmxF7",
        "outputId": "abb0da83-52a6-4185-ce27-c995b5841aae"
      },
      "execution_count": 5,
      "outputs": [
        {
          "output_type": "stream",
          "name": "stdout",
          "text": [
            "Hlo ol!\n",
            "el,Wrd\n"
          ]
        }
      ]
    },
    {
      "cell_type": "code",
      "source": [
        "#Negative Indices\n",
        "print(text[-6:])\n",
        "print(text[:-7])"
      ],
      "metadata": {
        "colab": {
          "base_uri": "https://localhost:8080/"
        },
        "id": "zdUlPdJCm4DE",
        "outputId": "55c19f53-24f7-415c-8430-4a4ed392be5b"
      },
      "execution_count": 6,
      "outputs": [
        {
          "output_type": "stream",
          "name": "stdout",
          "text": [
            "World!\n",
            "Hello,\n"
          ]
        }
      ]
    },
    {
      "cell_type": "code",
      "source": [
        "#Reversing\n",
        "print(text[::-1])\n"
      ],
      "metadata": {
        "colab": {
          "base_uri": "https://localhost:8080/"
        },
        "id": "zwxDmug2nAMB",
        "outputId": "00c0b271-fadf-45f3-8400-6d8095406e4b"
      },
      "execution_count": 7,
      "outputs": [
        {
          "output_type": "stream",
          "name": "stdout",
          "text": [
            "!dlroW ,olleH\n"
          ]
        }
      ]
    },
    {
      "cell_type": "markdown",
      "source": [
        "6. If start >= stop with a positive step or start <= stop with a negative step, the result will be an empty string:"
      ],
      "metadata": {
        "id": "t6MDYa2sn9J4"
      }
    },
    {
      "cell_type": "code",
      "source": [
        "print(text[5:5])\n",
        "print(text[5:2])\n"
      ],
      "metadata": {
        "colab": {
          "base_uri": "https://localhost:8080/"
        },
        "id": "KKgwYvUanKnO",
        "outputId": "3e6108ea-7e32-4f04-bb4b-18b299658b0f"
      },
      "execution_count": 8,
      "outputs": [
        {
          "output_type": "stream",
          "name": "stdout",
          "text": [
            "\n",
            "\n"
          ]
        }
      ]
    },
    {
      "cell_type": "markdown",
      "source": [
        "2. Explain the key features of lists in Python.\\\n",
        "Solution: In Python, a list is a built-in data structure that is used to store an ordered collection of items. Lists are mutable, meaning that their contents can be changed after the list has been created. They can hold a various of data types, including integers, floats, strings, and even other lists.\n",
        "\n",
        "\n",
        "1. Ordered Collection\\\n",
        "Lists maintain the order of elements. The position of each element is fixed, and you can access them using an index.\n"
      ],
      "metadata": {
        "id": "OgARO1CaoRYT"
      }
    },
    {
      "cell_type": "code",
      "source": [
        "fruits = [\"apple\", \"banana\", \"cherry\"]\n",
        "print(fruits[1])\n"
      ],
      "metadata": {
        "colab": {
          "base_uri": "https://localhost:8080/"
        },
        "id": "Jucw2CjCwLNC",
        "outputId": "fa001f72-f812-4eed-ba83-866e79ea6a30"
      },
      "execution_count": 9,
      "outputs": [
        {
          "output_type": "stream",
          "name": "stdout",
          "text": [
            "banana\n"
          ]
        }
      ]
    },
    {
      "cell_type": "markdown",
      "source": [
        "2. Mutable :-\n",
        "Lists are mutable, meaning their contents can be modified after creation."
      ],
      "metadata": {
        "id": "_B-FFKdewYK8"
      }
    },
    {
      "cell_type": "code",
      "source": [
        "fruits[1] = \"blueberry\"\n",
        "print(fruits)\n"
      ],
      "metadata": {
        "colab": {
          "base_uri": "https://localhost:8080/"
        },
        "id": "AxYeth1UwhN1",
        "outputId": "1b3962e9-d05f-4503-c019-dc8f70a6c705"
      },
      "execution_count": 10,
      "outputs": [
        {
          "output_type": "stream",
          "name": "stdout",
          "text": [
            "['apple', 'blueberry', 'cherry']\n"
          ]
        }
      ]
    },
    {
      "cell_type": "markdown",
      "source": [
        "3. Heterogeneous Elements:-\n",
        "A list can store elements of different data types, including integers, strings, floats, or even other lists."
      ],
      "metadata": {
        "id": "ByodMjSYw3CH"
      }
    },
    {
      "cell_type": "code",
      "source": [
        "mixed = [1, \"hello\", 3.14, [2, 4]]\n",
        "print(mixed)\n"
      ],
      "metadata": {
        "colab": {
          "base_uri": "https://localhost:8080/"
        },
        "id": "Wz7_7IVRw9P4",
        "outputId": "45a1f7f0-9501-4a7f-a2d9-19106b55d2b9"
      },
      "execution_count": 11,
      "outputs": [
        {
          "output_type": "stream",
          "name": "stdout",
          "text": [
            "[1, 'hello', 3.14, [2, 4]]\n"
          ]
        }
      ]
    },
    {
      "cell_type": "markdown",
      "source": [
        "4. Dynamic Size:-\n",
        "Lists can grow or shrink as needed; elements can be added or removed dynamically."
      ],
      "metadata": {
        "id": "qajSKklcxFiH"
      }
    },
    {
      "cell_type": "code",
      "source": [
        "numbers = [1, 2, 3]\n",
        "numbers.append(4)\n",
        "print(numbers)\n"
      ],
      "metadata": {
        "colab": {
          "base_uri": "https://localhost:8080/"
        },
        "id": "URwLwvuuxMkf",
        "outputId": "94c67ae0-15fc-427d-8b59-a34ccf862038"
      },
      "execution_count": 12,
      "outputs": [
        {
          "output_type": "stream",
          "name": "stdout",
          "text": [
            "[1, 2, 3, 4]\n"
          ]
        }
      ]
    },
    {
      "cell_type": "markdown",
      "source": [
        "5. Supports Duplicates:-\n",
        "Lists can contain duplicate elements."
      ],
      "metadata": {
        "id": "jWCqqJGKxRWo"
      }
    },
    {
      "cell_type": "code",
      "source": [
        "duplicates = [1, 2, 2, 3]\n",
        "print(duplicates)\n"
      ],
      "metadata": {
        "colab": {
          "base_uri": "https://localhost:8080/"
        },
        "id": "dN_iQD39xWd3",
        "outputId": "36923cbb-5954-41cc-8e85-be26929e5e7c"
      },
      "execution_count": 13,
      "outputs": [
        {
          "output_type": "stream",
          "name": "stdout",
          "text": [
            "[1, 2, 2, 3]\n"
          ]
        }
      ]
    },
    {
      "cell_type": "markdown",
      "source": [
        "6. Indexed Access:-\n",
        "List elements can be accessed or modified using indices (both positive and negative)."
      ],
      "metadata": {
        "id": "i0jkFRXMxjwu"
      }
    },
    {
      "cell_type": "code",
      "source": [
        "names = [\"Alice\", \"Bob\", \"Charlie\"]\n",
        "print(names[-1])\n"
      ],
      "metadata": {
        "colab": {
          "base_uri": "https://localhost:8080/"
        },
        "id": "D8_qP0Q3xm06",
        "outputId": "e8d7f8e9-ab54-4acf-93ac-163779bd3462"
      },
      "execution_count": 14,
      "outputs": [
        {
          "output_type": "stream",
          "name": "stdout",
          "text": [
            "Charlie\n"
          ]
        }
      ]
    },
    {
      "cell_type": "markdown",
      "source": [
        "7. Iterability:-\n",
        "Lists can be iterated over using loops."
      ],
      "metadata": {
        "id": "w4M_T0rdxuEn"
      }
    },
    {
      "cell_type": "code",
      "source": [
        "for fruit in fruits:\n",
        "    print(fruit)\n"
      ],
      "metadata": {
        "colab": {
          "base_uri": "https://localhost:8080/"
        },
        "id": "iHtEQ5MuxwQz",
        "outputId": "19ece29d-1657-45ed-d009-e0f6bf26683e"
      },
      "execution_count": 15,
      "outputs": [
        {
          "output_type": "stream",
          "name": "stdout",
          "text": [
            "apple\n",
            "blueberry\n",
            "cherry\n"
          ]
        }
      ]
    },
    {
      "cell_type": "markdown",
      "source": [
        "8. Rich Set of Methods\\\n",
        "Lists provide a variety of built-in methods for manipulation:\\\n",
        "append(): Add an element to the end.\\\n",
        "insert(): Add an element at a specified position.\\\n",
        "remove(): Remove a specific element.\\\n",
        "pop(): Remove and return an element by index.\\\n",
        "sort(): Sort the list in ascending order.\\\n",
        "reverse(): Reverse the order of elements."
      ],
      "metadata": {
        "id": "4yqyWb_0x8eI"
      }
    },
    {
      "cell_type": "markdown",
      "source": [
        "9. Supports Slicing:-\n",
        "Lists support slicing to access a subset of elements"
      ],
      "metadata": {
        "id": "LwRYEHEFyGma"
      }
    },
    {
      "cell_type": "code",
      "source": [
        "nums = [10, 20, 30, 40, 50]\n",
        "print(nums[1:4])\n"
      ],
      "metadata": {
        "colab": {
          "base_uri": "https://localhost:8080/"
        },
        "id": "SXRkJDPmyMoN",
        "outputId": "71f8a619-3f4b-4771-9d84-72558b45df81"
      },
      "execution_count": 16,
      "outputs": [
        {
          "output_type": "stream",
          "name": "stdout",
          "text": [
            "[20, 30, 40]\n"
          ]
        }
      ]
    },
    {
      "cell_type": "markdown",
      "source": [
        "10. Supports Nesting:-\n",
        "Lists can contain other lists, enabling the creation of nested structures"
      ],
      "metadata": {
        "id": "l13sTyGFyS2w"
      }
    },
    {
      "cell_type": "code",
      "source": [
        "nested = [[1, 2], [3, 4], [5, 6]]\n",
        "print(nested[1][0])\n"
      ],
      "metadata": {
        "colab": {
          "base_uri": "https://localhost:8080/"
        },
        "id": "mDHjBOqgyY7R",
        "outputId": "0f98e0df-9ca5-4a17-90b6-37b788a1ece9"
      },
      "execution_count": 17,
      "outputs": [
        {
          "output_type": "stream",
          "name": "stdout",
          "text": [
            "3\n"
          ]
        }
      ]
    },
    {
      "cell_type": "markdown",
      "source": [
        "3. Describe how to access, modify, and delete elements in a list with examples \\\n",
        "Solution: We can access, modify, and delete elements in a Python list, with examples:\n",
        " 1. Accessing Elements:-\n",
        "You can access elements in a list using indices or by slicing.\n",
        "\n",
        "a. Access by Index\\\n",
        "Use positive indices starting from 0 for the first element.\\\n",
        "Use negative indices to access elements from the end.\n",
        "\n"
      ],
      "metadata": {
        "id": "ApXFbWNLys9e"
      }
    },
    {
      "cell_type": "code",
      "source": [
        "my_list = [10, 20, 30, 40, 50]\n",
        "print(my_list[2])\n",
        "print(my_list[-1])\n"
      ],
      "metadata": {
        "colab": {
          "base_uri": "https://localhost:8080/"
        },
        "id": "ryyn9C3OzRU1",
        "outputId": "ed717d9a-dd42-481d-f9b4-d7ede77278da"
      },
      "execution_count": 18,
      "outputs": [
        {
          "output_type": "stream",
          "name": "stdout",
          "text": [
            "30\n",
            "50\n"
          ]
        }
      ]
    },
    {
      "cell_type": "markdown",
      "source": [
        "b. Access by Slicing\\\n",
        "Use slicing to retrieve a subset of the list."
      ],
      "metadata": {
        "id": "g6L08AMyzXO5"
      }
    },
    {
      "cell_type": "code",
      "source": [
        "print(my_list[1:4])\n",
        "print(my_list[:3])\n"
      ],
      "metadata": {
        "colab": {
          "base_uri": "https://localhost:8080/"
        },
        "id": "9MQJ-Om-zbxl",
        "outputId": "d10716fc-0e46-4c06-ae66-02cb3f92deef"
      },
      "execution_count": 19,
      "outputs": [
        {
          "output_type": "stream",
          "name": "stdout",
          "text": [
            "[20, 30, 40]\n",
            "[10, 20, 30]\n"
          ]
        }
      ]
    },
    {
      "cell_type": "markdown",
      "source": [
        "2. Modifying Elements\\\n",
        "You can modify elements directly by assigning a new value to a specific index or range.\n",
        "\n",
        "a. Modify a Single Element"
      ],
      "metadata": {
        "id": "8i0ayNlwzgvD"
      }
    },
    {
      "cell_type": "code",
      "source": [
        "my_list[1] = 25\n",
        "print(my_list)\n"
      ],
      "metadata": {
        "colab": {
          "base_uri": "https://localhost:8080/"
        },
        "id": "yTfTlxkFzmhv",
        "outputId": "f8f0e8fa-d3ec-4529-b3e7-f3785246e3e0"
      },
      "execution_count": 20,
      "outputs": [
        {
          "output_type": "stream",
          "name": "stdout",
          "text": [
            "[10, 25, 30, 40, 50]\n"
          ]
        }
      ]
    },
    {
      "cell_type": "markdown",
      "source": [
        "b. Modify Multiple Elements\\\n",
        "Use slicing to update multiple elements at once.\n"
      ],
      "metadata": {
        "id": "9H8fxp1Azqyf"
      }
    },
    {
      "cell_type": "code",
      "source": [
        "my_list[1:3] = [21, 31]\n",
        "print(my_list)\n"
      ],
      "metadata": {
        "colab": {
          "base_uri": "https://localhost:8080/"
        },
        "id": "K5wWIMLwzy7V",
        "outputId": "c8abd8ec-1776-4445-ba24-ec7ebe975bbd"
      },
      "execution_count": 21,
      "outputs": [
        {
          "output_type": "stream",
          "name": "stdout",
          "text": [
            "[10, 21, 31, 40, 50]\n"
          ]
        }
      ]
    },
    {
      "cell_type": "markdown",
      "source": [
        "3. Deleting Elements\\\n",
        "You can delete elements using the del statement, remove() method, or pop() method.\n",
        "\n",
        "a. Using del:-\n",
        "Deletes an element by its index."
      ],
      "metadata": {
        "id": "-ZPmodQAz3ca"
      }
    },
    {
      "cell_type": "code",
      "source": [
        "del my_list[2]\n",
        "print(my_list)\n"
      ],
      "metadata": {
        "colab": {
          "base_uri": "https://localhost:8080/"
        },
        "id": "FZSFBXta0DTA",
        "outputId": "4be6120a-38ca-4b4a-bb69-563cbe865cca"
      },
      "execution_count": 22,
      "outputs": [
        {
          "output_type": "stream",
          "name": "stdout",
          "text": [
            "[10, 21, 40, 50]\n"
          ]
        }
      ]
    },
    {
      "cell_type": "markdown",
      "source": [
        "Delete a range of elements using slicing."
      ],
      "metadata": {
        "id": "J3bP6wgj0GYG"
      }
    },
    {
      "cell_type": "code",
      "source": [
        "del my_list[1:3]\n",
        "print(my_list)\n"
      ],
      "metadata": {
        "colab": {
          "base_uri": "https://localhost:8080/"
        },
        "id": "hdqNptPj0Qu5",
        "outputId": "cce17086-e2d8-4250-9b9d-4a09fb2cced3"
      },
      "execution_count": 23,
      "outputs": [
        {
          "output_type": "stream",
          "name": "stdout",
          "text": [
            "[10, 50]\n"
          ]
        }
      ]
    },
    {
      "cell_type": "markdown",
      "source": [
        "b. Using remove():-\n",
        "Removes the first occurrence of a specific value."
      ],
      "metadata": {
        "id": "0lEZ2TFg0bsR"
      }
    },
    {
      "cell_type": "code",
      "source": [
        "my_list = [10, 20, 30, 20, 40]\n",
        "my_list.remove(20)\n",
        "print(my_list)"
      ],
      "metadata": {
        "colab": {
          "base_uri": "https://localhost:8080/"
        },
        "id": "rHaC-8ek0hKg",
        "outputId": "96188066-c6ad-417b-e34b-9d4d0e08105e"
      },
      "execution_count": 24,
      "outputs": [
        {
          "output_type": "stream",
          "name": "stdout",
          "text": [
            "[10, 30, 20, 40]\n"
          ]
        }
      ]
    },
    {
      "cell_type": "markdown",
      "source": [
        "c. Using pop():-\n",
        "Removes and returns an element by its index. If no index is specified, it removes the last element."
      ],
      "metadata": {
        "id": "qY1DsrhP0m6_"
      }
    },
    {
      "cell_type": "code",
      "source": [
        "removed_element = my_list.pop(1)\n",
        "print(my_list)\n",
        "print(removed_element)\n"
      ],
      "metadata": {
        "colab": {
          "base_uri": "https://localhost:8080/"
        },
        "id": "3EsM6XPk0pX3",
        "outputId": "722484a2-5af2-4cf7-9f04-8922e26c682f"
      },
      "execution_count": 25,
      "outputs": [
        {
          "output_type": "stream",
          "name": "stdout",
          "text": [
            "[10, 20, 40]\n",
            "30\n"
          ]
        }
      ]
    },
    {
      "cell_type": "markdown",
      "source": [
        "4. Compare and contrast tuples and lists with examples\\\n",
        "Solution:\n",
        "- Feature        \n",
        "  Mutability  | List: Mutable     | Tuple:Immutable\\\n",
        "  Order       | Maintains order     | Maintains order\\\n",
        "  Indexing    | Supported           | Supported\\\n",
        "  Duplicates  | Allowed             | Allowed\\\n",
        "  Elements    | Heterogenous       | Heterogenous\\\n",
        "  Performance | Slower              | Faster     \\\n",
        "  Memory      | Uses more memory   | uses less memory\\\n",
        "  Methods     | Rich set of methods | Limited methods\n",
        "\n",
        "          "
      ],
      "metadata": {
        "id": "JMYrFimN003Y"
      }
    },
    {
      "cell_type": "code",
      "source": [
        "#Example Mutability\n",
        "# List\n",
        "my_list = [1, 2, 3]\n",
        "my_list[1] = 5\n",
        "print(my_list)\n",
        "\n",
        "# Tuple\n",
        "my_tuple = (1, 2, 3)\n",
        "print(my_tuple)\n"
      ],
      "metadata": {
        "colab": {
          "base_uri": "https://localhost:8080/"
        },
        "id": "kXhekVvJ419N",
        "outputId": "efc102d1-bee7-4790-9d4f-a78e9e1c0727"
      },
      "execution_count": 28,
      "outputs": [
        {
          "output_type": "stream",
          "name": "stdout",
          "text": [
            "[1, 5, 3]\n",
            "(1, 2, 3)\n"
          ]
        }
      ]
    },
    {
      "cell_type": "code",
      "source": [
        "#order\n",
        "my_list = [10, 20, 30]\n",
        "my_tuple = (10, 20, 30)\n",
        "\n",
        "print(my_list[1])\n",
        "print(my_tuple[1])\n"
      ],
      "metadata": {
        "colab": {
          "base_uri": "https://localhost:8080/"
        },
        "id": "MuipozeY5AzI",
        "outputId": "6cf47b2c-1212-4032-b817-52937bcb25ba"
      },
      "execution_count": 29,
      "outputs": [
        {
          "output_type": "stream",
          "name": "stdout",
          "text": [
            "20\n",
            "20\n"
          ]
        }
      ]
    },
    {
      "cell_type": "code",
      "source": [
        "#indexing\n",
        "my_list = [10, 20, 30, 40]\n",
        "my_tuple = (10, 20, 30, 40)\n",
        "\n",
        "print(my_list[-1])\n",
        "print(my_tuple[:3])\n"
      ],
      "metadata": {
        "colab": {
          "base_uri": "https://localhost:8080/"
        },
        "id": "P-PfHfQ89ImS",
        "outputId": "f346a148-d656-4764-d2c5-b69e88dde374"
      },
      "execution_count": 30,
      "outputs": [
        {
          "output_type": "stream",
          "name": "stdout",
          "text": [
            "40\n",
            "(10, 20, 30)\n"
          ]
        }
      ]
    },
    {
      "cell_type": "code",
      "source": [
        "#duplicates\n",
        "my_list = [1, 2, 2, 3]\n",
        "my_tuple = (1, 2, 2, 3)\n",
        "\n",
        "print(my_list)\n",
        "print(my_tuple)\n"
      ],
      "metadata": {
        "colab": {
          "base_uri": "https://localhost:8080/"
        },
        "id": "sE1IrEB89QE-",
        "outputId": "9463c8cf-4da5-43d1-c33a-8ef6ca1507f9"
      },
      "execution_count": 31,
      "outputs": [
        {
          "output_type": "stream",
          "name": "stdout",
          "text": [
            "[1, 2, 2, 3]\n",
            "(1, 2, 2, 3)\n"
          ]
        }
      ]
    },
    {
      "cell_type": "code",
      "source": [
        "#elements\n",
        "my_list = [1, \"hello\", 3.14]\n",
        "my_tuple = (1, \"hello\", 3.14)\n",
        "\n",
        "print(my_list)\n",
        "print(my_tuple)\n"
      ],
      "metadata": {
        "colab": {
          "base_uri": "https://localhost:8080/"
        },
        "id": "CMs6ZDlm9Wl0",
        "outputId": "1457a029-31a3-401d-81fa-60bd18b53dba"
      },
      "execution_count": 32,
      "outputs": [
        {
          "output_type": "stream",
          "name": "stdout",
          "text": [
            "[1, 'hello', 3.14]\n",
            "(1, 'hello', 3.14)\n"
          ]
        }
      ]
    },
    {
      "cell_type": "markdown",
      "source": [
        "5. Describe the key features of sets and provide examples of their use\\\n",
        "Solution: Sets in Python are unordered collections of unique elements. They are used when you want to store a collection of items without any duplicate elements. Sets are mutable, meaning you can add or remove elements from them, but the elements themselves must be immutable (e.g., integers, strings, tuples).\n",
        "The key features of sets are as follows:-\n",
        "\n",
        " 1. Unordered:-\n",
        "Sets do not maintain the order of elements. The elements are stored in an arbitrary order.\n"
      ],
      "metadata": {
        "id": "uR6ebH0__ig_"
      }
    },
    {
      "cell_type": "code",
      "source": [
        "my_set = {3, 1, 4, 1, 5}\n",
        "print(my_set)"
      ],
      "metadata": {
        "colab": {
          "base_uri": "https://localhost:8080/"
        },
        "id": "AgzraFLxBBlL",
        "outputId": "2f2c5fa0-7521-4629-9da5-5229e3209f69"
      },
      "execution_count": 33,
      "outputs": [
        {
          "output_type": "stream",
          "name": "stdout",
          "text": [
            "{1, 3, 4, 5}\n"
          ]
        }
      ]
    },
    {
      "cell_type": "markdown",
      "source": [
        "2. Unique Elements:-\n",
        "Sets automatically remove duplicate values."
      ],
      "metadata": {
        "id": "izj5i6mvBGNp"
      }
    },
    {
      "cell_type": "code",
      "source": [
        "my_set = {1, 2, 2, 3, 3, 3}\n",
        "print(my_set)"
      ],
      "metadata": {
        "colab": {
          "base_uri": "https://localhost:8080/"
        },
        "id": "Kg7jtJ0MBOix",
        "outputId": "6b67879e-6bd6-4f3a-a3a6-457ffaac94df"
      },
      "execution_count": 34,
      "outputs": [
        {
          "output_type": "stream",
          "name": "stdout",
          "text": [
            "{1, 2, 3}\n"
          ]
        }
      ]
    },
    {
      "cell_type": "markdown",
      "source": [
        "3. Immutable Elements:-\n",
        "Elements in a set must be immutable (e.g., numbers, strings, tuples). Mutable types like lists or dictionaries cannot be added."
      ],
      "metadata": {
        "id": "azldGQFmBVEJ"
      }
    },
    {
      "cell_type": "markdown",
      "source": [
        "4. Dynamic Size:-\n",
        "Sets are dynamic and can grow or shrink as elements are added or removed."
      ],
      "metadata": {
        "id": "VAClfdqJB7sf"
      }
    },
    {
      "cell_type": "markdown",
      "source": [
        "5. Efficient Membership Testing:-\n",
        "Checking for the existence of an element in a set is faster compared to lists."
      ],
      "metadata": {
        "id": "kyuDwR78CFGV"
      }
    },
    {
      "cell_type": "code",
      "source": [
        "my_set = {1, 2, 3, 4, 5}\n",
        "print(3 in my_set)"
      ],
      "metadata": {
        "colab": {
          "base_uri": "https://localhost:8080/"
        },
        "id": "PoJ_z8kmCJHt",
        "outputId": "9aed4948-dc64-4204-fee6-ef5bc709a9b8"
      },
      "execution_count": 38,
      "outputs": [
        {
          "output_type": "stream",
          "name": "stdout",
          "text": [
            "True\n"
          ]
        }
      ]
    },
    {
      "cell_type": "markdown",
      "source": [
        "6. Mathematical Set Operations:-\n",
        "Sets support operations like union, intersection, difference, and symmetric difference.\n",
        "7. No Indexing or Slicing:-\n",
        "Since sets are unordered, they do not support indexing or slicing.\n"
      ],
      "metadata": {
        "id": "q0sx4ecbCY_m"
      }
    },
    {
      "cell_type": "markdown",
      "source": [
        "Examples of Use Cases\n",
        "1. Removing Duplicates from a List\n"
      ],
      "metadata": {
        "id": "vQGxAn-dC3_c"
      }
    },
    {
      "cell_type": "code",
      "source": [
        "my_list = [1, 2, 2, 3, 3, 4]\n",
        "unique_items = set(my_list)\n",
        "print(unique_items)\n"
      ],
      "metadata": {
        "colab": {
          "base_uri": "https://localhost:8080/"
        },
        "id": "GWFO9eCwCOph",
        "outputId": "2f69681f-6b70-468a-b236-2fe931c4dd5b"
      },
      "execution_count": 39,
      "outputs": [
        {
          "output_type": "stream",
          "name": "stdout",
          "text": [
            "{1, 2, 3, 4}\n"
          ]
        }
      ]
    },
    {
      "cell_type": "markdown",
      "source": [
        "2. Checking Membership"
      ],
      "metadata": {
        "id": "qLtDG65FDILF"
      }
    },
    {
      "cell_type": "code",
      "source": [
        "permissions = {\"read\", \"write\", \"execute\"}\n",
        "print(\"write\" in permissions)\n"
      ],
      "metadata": {
        "colab": {
          "base_uri": "https://localhost:8080/"
        },
        "id": "4raxPXtADNdn",
        "outputId": "30cab3ee-279f-4d51-a378-f3d045e5955f"
      },
      "execution_count": 40,
      "outputs": [
        {
          "output_type": "stream",
          "name": "stdout",
          "text": [
            "True\n"
          ]
        }
      ]
    },
    {
      "cell_type": "markdown",
      "source": [
        "3. Mathematical Operations:-\n",
        "Find common attendees between two events."
      ],
      "metadata": {
        "id": "N-F76JQgDWPN"
      }
    },
    {
      "cell_type": "code",
      "source": [
        "event1 = {\"Alice\", \"Bob\", \"Charlie\"}\n",
        "event2 = {\"Charlie\", \"David\", \"Eve\"}\n",
        "\n",
        "common = event1 & event2\n",
        "print(common)\n"
      ],
      "metadata": {
        "colab": {
          "base_uri": "https://localhost:8080/"
        },
        "id": "XhZxOBtVDEFa",
        "outputId": "4bffe130-b9e0-43a4-f4d6-d702dd8945da"
      },
      "execution_count": 41,
      "outputs": [
        {
          "output_type": "stream",
          "name": "stdout",
          "text": [
            "{'Charlie'}\n"
          ]
        }
      ]
    },
    {
      "cell_type": "markdown",
      "source": [
        "4. Filter Unique Words in a Sentence"
      ],
      "metadata": {
        "id": "Q3aqTd5WDn_d"
      }
    },
    {
      "cell_type": "code",
      "source": [
        "sentence = \"Python is great and Python is fun\"\n",
        "unique_words = set(sentence.split())\n",
        "print(unique_words)"
      ],
      "metadata": {
        "colab": {
          "base_uri": "https://localhost:8080/"
        },
        "id": "4xWzoweVDjAD",
        "outputId": "10f7a89e-b852-45bb-dd3e-ef87dddf2686"
      },
      "execution_count": 42,
      "outputs": [
        {
          "output_type": "stream",
          "name": "stdout",
          "text": [
            "{'fun', 'and', 'is', 'Python', 'great'}\n"
          ]
        }
      ]
    },
    {
      "cell_type": "markdown",
      "source": [
        "6. Discuss the use cases of tuples and sets in Python programming\\\n",
        "Solution: **Use Cases of Tuples and Sets in Python Programming**\\\n",
        "- Use Cases of Tuples\\\n",
        "Tuples are ordered, immutable collections of items, often used when data integrity and order are critical.\n",
        " 1. Fixed Data Structures:-\n",
        "Use tuples to store related data that should remain unchanged.\n",
        "Example: Storing coordinates, RGB colors, or dates.\n",
        "2. Returning Multiple Values:-\n",
        "Functions can return multiple values as tuples, making it easy to unpack results."
      ],
      "metadata": {
        "id": "DnPUXlr4DwQN"
      }
    },
    {
      "cell_type": "code",
      "source": [
        "def calculate(a, b):\n",
        "    return a + b, a * b\n",
        "\n",
        "result = calculate(5, 3)\n",
        "print(result)\n"
      ],
      "metadata": {
        "colab": {
          "base_uri": "https://localhost:8080/"
        },
        "id": "UohwD2PIIE_s",
        "outputId": "9e599bf2-11ed-40d4-8adc-5f8ea8d6c9ae"
      },
      "execution_count": 11,
      "outputs": [
        {
          "output_type": "stream",
          "name": "stdout",
          "text": [
            "(8, 15)\n"
          ]
        }
      ]
    },
    {
      "cell_type": "markdown",
      "source": [
        "3. Dictionary Keys:-\n",
        "Since tuples are hashable, they can be used as dictionary keys when keys need to store multiple values."
      ],
      "metadata": {
        "id": "wAWsYSCLIwWX"
      }
    },
    {
      "cell_type": "code",
      "source": [
        "location_data = {(\"New York\", \"USA\"): \"Big Apple\", (\"Paris\", \"France\"): \"City of Light\"}\n",
        "print(location_data[(\"New York\", \"USA\")])"
      ],
      "metadata": {
        "colab": {
          "base_uri": "https://localhost:8080/"
        },
        "id": "29k9A0zoI01-",
        "outputId": "db7f861a-95a4-47fc-8bce-28f1b7e692d7"
      },
      "execution_count": 12,
      "outputs": [
        {
          "output_type": "stream",
          "name": "stdout",
          "text": [
            "Big Apple\n"
          ]
        }
      ]
    },
    {
      "cell_type": "markdown",
      "source": [
        "4. Iteration and Storage Efficiency:-\n",
        "Tuples use less memory and are faster to iterate compared to lists, making them ideal for large collections of static data.\n",
        "5. Data Grouping:-\n",
        "Group related but heterogeneous data for better readability.\n",
        "\n",
        "Use Cases of Sets\\\n",
        "Sets are unordered collections of unique elements, making them ideal for operations requiring uniqueness and membership testing.\n",
        "\n",
        "1. Removing Duplicates:-\n",
        "Quickly eliminate duplicates from a list or collection."
      ],
      "metadata": {
        "id": "dglMAjTcI8T5"
      }
    },
    {
      "cell_type": "code",
      "source": [
        "numbers = [1, 2, 2, 3, 3, 4]\n",
        "unique_numbers = set(numbers)\n",
        "print(unique_numbers)"
      ],
      "metadata": {
        "colab": {
          "base_uri": "https://localhost:8080/"
        },
        "id": "PAAKLT92JR0K",
        "outputId": "527a6949-30cd-46c3-eb44-e342b20addf2"
      },
      "execution_count": 13,
      "outputs": [
        {
          "output_type": "stream",
          "name": "stdout",
          "text": [
            "{1, 2, 3, 4}\n"
          ]
        }
      ]
    },
    {
      "cell_type": "markdown",
      "source": [
        "2. Membership Testing\\\n",
        "Sets allow fast membership checks, useful for tasks like filtering or validation.\n",
        "\n"
      ],
      "metadata": {
        "id": "yTa_zagwJdJV"
      }
    },
    {
      "cell_type": "code",
      "source": [
        "allowed_users = {\"Alice\", \"Bob\", \"Charlie\"}\n",
        "print(\"Alice\" in allowed_users)"
      ],
      "metadata": {
        "colab": {
          "base_uri": "https://localhost:8080/"
        },
        "id": "yCIaF6VcJjHZ",
        "outputId": "99352048-0dbb-435f-a79d-aa9188ded7e5"
      },
      "execution_count": 14,
      "outputs": [
        {
          "output_type": "stream",
          "name": "stdout",
          "text": [
            "True\n"
          ]
        }
      ]
    },
    {
      "cell_type": "markdown",
      "source": [
        "3. Mathematical Set Operations\\\n",
        "Perform operations like union, intersection, difference, and symmetric difference for data analysis or comparison tasks."
      ],
      "metadata": {
        "id": "aBgN31MPJsRl"
      }
    },
    {
      "cell_type": "code",
      "source": [
        "A = {1, 2, 3}\n",
        "B = {3, 4, 5}\n",
        "\n",
        "print(A | B)\n",
        "print(A & B)\n",
        "print(A - B)\n"
      ],
      "metadata": {
        "colab": {
          "base_uri": "https://localhost:8080/"
        },
        "id": "2QjtB9YHJvwn",
        "outputId": "7f4bab94-f608-4737-d53c-406c6ca3ccfd"
      },
      "execution_count": 15,
      "outputs": [
        {
          "output_type": "stream",
          "name": "stdout",
          "text": [
            "{1, 2, 3, 4, 5}\n",
            "{3}\n",
            "{1, 2}\n"
          ]
        }
      ]
    },
    {
      "cell_type": "markdown",
      "source": [
        "4. Tracking Unique Elements:-\n",
        "Track distinct items in dynamic systems like user sessions or visited links."
      ],
      "metadata": {
        "id": "C5rrrsO1KFGT"
      }
    },
    {
      "cell_type": "code",
      "source": [
        "visited_pages = {\"home\", \"about\"}\n",
        "visited_pages.add(\"contact\")\n",
        "print(visited_pages)\n"
      ],
      "metadata": {
        "colab": {
          "base_uri": "https://localhost:8080/"
        },
        "id": "tCD4E8ewKJa1",
        "outputId": "a2f8edfd-fdb1-40af-e85b-f394014f9ffc"
      },
      "execution_count": 16,
      "outputs": [
        {
          "output_type": "stream",
          "name": "stdout",
          "text": [
            "{'home', 'about', 'contact'}\n"
          ]
        }
      ]
    },
    {
      "cell_type": "markdown",
      "source": [
        "5. Filtering Data\\\n",
        "Quickly filter unique values from text, collections, or streams."
      ],
      "metadata": {
        "id": "I1p-FpaRKNyo"
      }
    },
    {
      "cell_type": "code",
      "source": [
        "text = \"hello world\"\n",
        "unique_chars = set(text)\n",
        "print(unique_chars)"
      ],
      "metadata": {
        "colab": {
          "base_uri": "https://localhost:8080/"
        },
        "id": "FBhPVtERKP4V",
        "outputId": "adb0d9f1-24cd-4f1a-d8d3-b9cc645aa156"
      },
      "execution_count": 17,
      "outputs": [
        {
          "output_type": "stream",
          "name": "stdout",
          "text": [
            "{'r', 'e', 'd', 'w', 'o', 'h', ' ', 'l'}\n"
          ]
        }
      ]
    },
    {
      "cell_type": "markdown",
      "source": [
        "6. Avoiding Redundant Data\\\n",
        "Use sets when redundancy is not allowed, such as collecting survey responses or managing unique IDs.\n"
      ],
      "metadata": {
        "id": "KZ6vBmjkKVxj"
      }
    },
    {
      "cell_type": "code",
      "source": [
        "responses = {\"yes\", \"no\", \"maybe\"}\n",
        "responses.add(\"yes\")\n"
      ],
      "metadata": {
        "id": "YM0nxTbOKaGO"
      },
      "execution_count": 19,
      "outputs": []
    },
    {
      "cell_type": "markdown",
      "source": [
        "7. Describe how to add, modify, and delete items in a dictionary with examples\\\n",
        "Solution: In Python, dictionaries are mutable collections of key-value pairs, and you can easily add, modify, and delete items. Here's how to do it:\n",
        "  \n",
        "  1. Adding Items to a Dictionary\\\n",
        "a. Add a New Key-Value Pair\n",
        "Use the key as an index and assign a value to it. If the key does not exist, it is added to the dictionary.\n",
        "\n"
      ],
      "metadata": {
        "id": "NDV8R_PvBFIt"
      }
    },
    {
      "cell_type": "code",
      "source": [
        "my_dict = {\"name\": \"Alice\", \"age\": 25}\n",
        "my_dict[\"city\"] = \"New York\"\n",
        "print(my_dict)\n"
      ],
      "metadata": {
        "colab": {
          "base_uri": "https://localhost:8080/"
        },
        "id": "nSxK1eLSBfTn",
        "outputId": "127a5bfd-7454-4001-9f04-1cdf379e183e"
      },
      "execution_count": 1,
      "outputs": [
        {
          "output_type": "stream",
          "name": "stdout",
          "text": [
            "{'name': 'Alice', 'age': 25, 'city': 'New York'}\n"
          ]
        }
      ]
    },
    {
      "cell_type": "markdown",
      "source": [
        "b. Update Multiple Key-Value Pairs:-\n",
        "Use the update() method to add multiple items at once.\n"
      ],
      "metadata": {
        "id": "dWjzxUm2BnIi"
      }
    },
    {
      "cell_type": "code",
      "source": [
        "my_dict.update({\"country\": \"USA\", \"profession\": \"Engineer\"})\n",
        "print(my_dict)\n"
      ],
      "metadata": {
        "colab": {
          "base_uri": "https://localhost:8080/"
        },
        "id": "1HEE966FBjO4",
        "outputId": "9866c1e1-8066-4b4d-c351-0ebbf0b4419c"
      },
      "execution_count": 2,
      "outputs": [
        {
          "output_type": "stream",
          "name": "stdout",
          "text": [
            "{'name': 'Alice', 'age': 25, 'city': 'New York', 'country': 'USA', 'profession': 'Engineer'}\n"
          ]
        }
      ]
    },
    {
      "cell_type": "markdown",
      "source": [
        "2. Modifying Items in a Dictionary\\\n",
        "a. Modify a Single Item:-\n",
        "Assign a new value to an existing key."
      ],
      "metadata": {
        "id": "jxBmCAiiBz30"
      }
    },
    {
      "cell_type": "code",
      "source": [
        "my_dict[\"age\"] = 30\n",
        "print(my_dict)\n"
      ],
      "metadata": {
        "colab": {
          "base_uri": "https://localhost:8080/"
        },
        "id": "HQyKQxJPBwdI",
        "outputId": "e83d5f4a-9afc-4cab-ef41-3a23080afb9c"
      },
      "execution_count": 3,
      "outputs": [
        {
          "output_type": "stream",
          "name": "stdout",
          "text": [
            "{'name': 'Alice', 'age': 30, 'city': 'New York', 'country': 'USA', 'profession': 'Engineer'}\n"
          ]
        }
      ]
    },
    {
      "cell_type": "markdown",
      "source": [
        "b. Modify Multiple Items:-\n",
        "Use update() to update multiple keys at once.\n"
      ],
      "metadata": {
        "id": "e6hgmOImCE_r"
      }
    },
    {
      "cell_type": "code",
      "source": [
        "my_dict.update({\"name\": \"Bob\", \"city\": \"Los Angeles\"})\n",
        "print(my_dict)\n"
      ],
      "metadata": {
        "colab": {
          "base_uri": "https://localhost:8080/"
        },
        "id": "FXxE9uUwB83q",
        "outputId": "a62213ca-22ad-4714-e308-a7560d25b783"
      },
      "execution_count": 4,
      "outputs": [
        {
          "output_type": "stream",
          "name": "stdout",
          "text": [
            "{'name': 'Bob', 'age': 30, 'city': 'Los Angeles', 'country': 'USA', 'profession': 'Engineer'}\n"
          ]
        }
      ]
    },
    {
      "cell_type": "markdown",
      "source": [
        "3. Deleting Items from a Dictionary\\\n",
        "a. Remove a Specific Item:-\n",
        "Use the del statement to remove a key-value pair."
      ],
      "metadata": {
        "id": "q0rq5VgsC1Rs"
      }
    },
    {
      "cell_type": "code",
      "source": [
        "del my_dict[\"profession\"]\n",
        "print(my_dict)\n"
      ],
      "metadata": {
        "colab": {
          "base_uri": "https://localhost:8080/"
        },
        "id": "LusIUZpoCv85",
        "outputId": "2f1917a6-40e6-4c51-8704-6b8d4b28a07f"
      },
      "execution_count": 5,
      "outputs": [
        {
          "output_type": "stream",
          "name": "stdout",
          "text": [
            "{'name': 'Bob', 'age': 30, 'city': 'Los Angeles', 'country': 'USA'}\n"
          ]
        }
      ]
    },
    {
      "cell_type": "markdown",
      "source": [
        "- Use the pop() method to remove a key and get its value."
      ],
      "metadata": {
        "id": "zrPWlLcbDBcj"
      }
    },
    {
      "cell_type": "code",
      "source": [
        "removed_value = my_dict.pop(\"country\")\n",
        "print(my_dict)\n",
        "print(removed_value)\n"
      ],
      "metadata": {
        "colab": {
          "base_uri": "https://localhost:8080/"
        },
        "id": "nqbke1BrC88m",
        "outputId": "2deea8d2-44c5-4f4c-a275-5d71400ffbe6"
      },
      "execution_count": 6,
      "outputs": [
        {
          "output_type": "stream",
          "name": "stdout",
          "text": [
            "{'name': 'Bob', 'age': 30, 'city': 'Los Angeles'}\n",
            "USA\n"
          ]
        }
      ]
    },
    {
      "cell_type": "markdown",
      "source": [
        "- Clear All Items:-\n",
        "Use the clear() method to empty the dictionary.\n",
        "\n"
      ],
      "metadata": {
        "id": "8Ydu2OPhDhjv"
      }
    },
    {
      "cell_type": "code",
      "source": [
        "my_dict.clear()\n",
        "print(my_dict)\n"
      ],
      "metadata": {
        "colab": {
          "base_uri": "https://localhost:8080/"
        },
        "id": "DHhs2rCDDLdj",
        "outputId": "68e9acb0-bca2-4395-ab29-ae051a18bd24"
      },
      "execution_count": 7,
      "outputs": [
        {
          "output_type": "stream",
          "name": "stdout",
          "text": [
            "{}\n"
          ]
        }
      ]
    },
    {
      "cell_type": "markdown",
      "source": [
        "8. Discuss the importance of dictionary keys being immutable and provide example\\\n",
        "Solution: **Dictionary** is a collection of key-value pairs. It is an unordered, mutable, and dynamic data structure. Dictionaries are also known as associative arrays or hash maps in other programming languages. They are denoted by curly braces { } and each key-value pair is separated by a colon :.\n",
        "\n",
        "- You can create dictionaries by enclosing comma-separated key-value pairs within curly braces { }."
      ],
      "metadata": {
        "id": "tXCmCvRYD1Yt"
      }
    },
    {
      "cell_type": "code",
      "source": [
        "dict1 = {'Name':'John','Age':20, 'City':'Ohana'}\n",
        "dict1"
      ],
      "metadata": {
        "colab": {
          "base_uri": "https://localhost:8080/"
        },
        "id": "dbY6wjBzDr6L",
        "outputId": "c9b5ef4e-2d99-447d-8540-de47e058a80f"
      },
      "execution_count": 8,
      "outputs": [
        {
          "output_type": "execute_result",
          "data": {
            "text/plain": [
              "{'Name': 'John', 'Age': 20, 'City': 'Ohana'}"
            ]
          },
          "metadata": {},
          "execution_count": 8
        }
      ]
    },
    {
      "cell_type": "markdown",
      "source": [
        "Why Dictionary Keys Must Be Immutable\\\n",
        "Hashing Requirement:\\\n",
        "Dictionary keys must be hashable, meaning their hash value (calculated using the hash() function) must remain the same throughout their lifetime.\\\n",
        "Immutable types (e.g., integers, strings, tuples) have consistent hash values, making them suitable as keys.\\\n",
        "Data Integrity:\\\n",
        "If keys were mutable and their value changed, the hash value would also change, making it impossible to retrieve the associated value correctly.\\\n",
        "Efficient Lookups:\\\n",
        "Dictionaries use hash tables to provide fast lookups. Immutable keys ensure that the hash value is stable, which allows consistent and efficient indexing.\n",
        "\n",
        "Allowed and Disallowed Key Types\\\n",
        "Allowed: Immutable types like integers, strings, tuples (containing only immutable elements), and frozensets.\\\n",
        "Not Allowed: Mutable types like lists, dictionaries, or sets.\n"
      ],
      "metadata": {
        "id": "aQyrQMQ1FCsj"
      }
    },
    {
      "cell_type": "code",
      "source": [
        "# Valid keys\n",
        "my_dict = {\n",
        "    1: \"integer key\",\n",
        "    \"key\": \"string key\",\n",
        "    (1, 2): \"tuple key\"\n",
        "}\n",
        "\n",
        "print(my_dict)\n",
        "\n",
        "# Invalid keys\n",
        "# my_dict = {[1, 2]: \"list key\"}  # Raises TypeError: unhashable type: 'list'\n",
        "\n",
        "# Explanation\n",
        "key_list = [1, 2]\n",
        "# my_dict[key_list] = \"mutable key\"  # Raises TypeError\n"
      ],
      "metadata": {
        "colab": {
          "base_uri": "https://localhost:8080/"
        },
        "id": "UEN2Hz1WESmv",
        "outputId": "073c5437-9d0d-418a-ac4d-bda2fa4f347b"
      },
      "execution_count": 9,
      "outputs": [
        {
          "output_type": "stream",
          "name": "stdout",
          "text": [
            "{1: 'integer key', 'key': 'string key', (1, 2): 'tuple key'}\n"
          ]
        }
      ]
    }
  ]
}